{
  "cells": [
    {
      "cell_type": "markdown",
      "metadata": {},
      "source": [
        "![](https://i.imgur.com/31vaXz8.png)"
      ]
    },
    {
      "cell_type": "markdown",
      "metadata": {},
      "source": [
        "a) Como vimos,\n",
        "\\\\[\n",
        "\\begin{align}\n",
        "    s_{1} &= - \\alpha + \\sqrt{{\\alpha}^{2} - {\\omega_{0}}^{2}} \\\\\n",
        "    s_{2} &= - \\alpha - \\sqrt{{\\alpha}^{2} - {\\omega_{0}}^{2}} \\\\\n",
        "    \\alpha &= \\frac{1}{2RC} \\\\\n",
        "    \\omega_{0} &= \\frac{1}{\\sqrt{LC}} \\\\\n",
        "\\end{align}\n",
        "\\\\]\n",
        "\n",
        "Sabendo que:\n",
        "\n",
        "\\\\[\n",
        "\\begin{align}\n",
        "    R &= 200 \\Omega \\\\\n",
        "    L &= 50 mH \\\\\n",
        "    C &= 0.2 \\mu F\n",
        "\\end{align}\n",
        "\\\\]"
      ]
    },
    {
      "cell_type": "code",
      "execution_count": null,
      "metadata": {
        "trusted": true
      },
      "outputs": [],
      "source": [
        "import numpy as np\n",
        "from IPython.display import display, Markdown, Latex\n",
        "\n",
        "alpha = lambda R, C: np.round(1/(2*R*C))\n",
        "omega_0 = lambda L, C: np.round(1/np.sqrt(L*C))\n",
        "s_1 = lambda R, L, C: np.round(\n",
        "    -alpha(R,C) + np.sqrt(\n",
        "        np.power(alpha(R,C), 2) - np.power(omega_0(L,C), 2) + 0j\n",
        "    )\n",
        ")\n",
        "s_2 = lambda R, L, C: np.round(\n",
        "    -alpha(R,C) - np.sqrt(\n",
        "        np.power(alpha(R,C), 2) - np.power(omega_0(L,C), 2) + 0j\n",
        "    )\n",
        ")\n",
        "R, L, C = 200, 50e-3, 0.2e-6\n",
        "latex_result  = '\\\\begin{align}\\n'\n",
        "latex_result += '    s_{{1}} &= {} \\\\\\\\\\n'.format(s_1(R,L,C))\n",
        "latex_result += '    s_{{2}} &= {} \\\\\\\\\\n'.format(s_2(R,L,C))\n",
        "latex_result += '    \\\\alpha &= {} \\\\\\\\\\n'.format(alpha(R,C))\n",
        "latex_result += '    \\\\omega_{{0}} &= {} \\\\\\\\\\n'.format(omega_0(L,C))\n",
        "latex_result += '\\\\end{align}'\n",
        "md_result = '\\\\\\\\[\\n' + latex_result + '\\n\\\\\\\\]'\n",
        "display(Markdown(md_result))"
      ]
    },
    {
      "cell_type": "code",
      "execution_count": null,
      "metadata": {
        "trusted": true
      },
      "outputs": [],
      "source": [
        "def caracteristica_resposta(R, L, C):\n",
        "    if np.isclose(np.power(alpha(R, C), 2) - np.power(omega_0(L, C), 2), 0):\n",
        "        # amortecimento critico\n",
        "        return 'A resposta é críticamente amortecida'\n",
        "    elif np.power(alpha(R, C), 2) > np.power(omega_0(L, C), 2):\n",
        "        return 'A resposta é superamortecida'\n",
        "    else:\n",
        "        return 'A resposta é subamortecida'\n",
        "md_result = '**Letra b)**\\n\\n{}'.format(\n",
        "    caracteristica_resposta(R, L, C)\n",
        ")\n",
        "display(Markdown(md_result))"
      ]
    },
    {
      "cell_type": "code",
      "execution_count": null,
      "metadata": {
        "trusted": true
      },
      "outputs": [],
      "source": [
        "R, L, C = 312.5, 50e-3, 0.2e-6\n",
        "latex_result  = '\\\\begin{align}\\n'\n",
        "latex_result += '    s_{{1}} &= {} \\\\\\\\\\n'.format(s_1(R,L,C))\n",
        "latex_result += '    s_{{2}} &= {} \\\\\\\\\\n'.format(s_2(R,L,C))\n",
        "latex_result += '    \\\\alpha &= {} \\\\\\\\\\n'.format(alpha(R,C))\n",
        "latex_result += '    \\\\omega_{{0}} &= {} \\\\\\\\\\n'.format(omega_0(L,C))\n",
        "latex_result += '\\\\end{align}'\n",
        "md_result  = '\\\\\\\\[\\n' + latex_result + '\\n\\\\\\\\]\\n\\n'\n",
        "md_result += '**Letra c)**\\n\\n{}'.format(\n",
        "    caracteristica_resposta(R, L, C)\n",
        ")\n",
        "display(Markdown(md_result))"
      ]
    },
    {
      "cell_type": "code",
      "execution_count": null,
      "metadata": {
        "trusted": true
      },
      "outputs": [],
      "source": [
        "%pip install sympy\n",
        "from sympy import Symbol, solve\n",
        "R = Symbol('R')\n",
        "r = solve(\n",
        "    (1/(2*R*C))**(2) - (1/((L*C)**(1/2)))**(2)\n",
        ").pop()\n",
        "md_result  = '**Letra d)**\\n\\n'\n",
        "md_result += 'O valor de R que torna a resposta criticamente amortecida é: '\n",
        "md_result += '\\\\\\\\({:.0f} \\Omega\\\\\\\\)'.format(r)\n",
        "display(Markdown(md_result))"
      ]
    }
  ],
  "metadata": {
    "kernelspec": {
      "display_name": "Python (Pyodide)",
      "language": "python",
      "name": "python"
    },
    "language_info": {
      "codemirror_mode": {
        "name": "python",
        "version": 3
      },
      "file_extension": ".py",
      "mimetype": "text/x-python",
      "name": "python",
      "nbconvert_exporter": "python",
      "pygments_lexer": "ipython3",
      "version": "3.8"
    }
  },
  "nbformat": 4,
  "nbformat_minor": 4
}
